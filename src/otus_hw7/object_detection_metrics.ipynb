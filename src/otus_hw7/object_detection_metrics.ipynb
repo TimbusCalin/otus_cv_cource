{
 "cells": [
  {
   "cell_type": "code",
   "execution_count": 1,
   "metadata": {
    "collapsed": true
   },
   "outputs": [],
   "source": [
    "!pip -q install pandas"
   ]
  },
  {
   "cell_type": "code",
   "execution_count": 2,
   "outputs": [],
   "source": [
    "from __future__ import print_function\n",
    "import collections\n",
    "import cv2\n",
    "import os\n",
    "import pandas as pd\n",
    "import numpy as np\n",
    "\n",
    "from matplotlib import pyplot as plt\n",
    "\n",
    "%matplotlib inline"
   ],
   "metadata": {
    "collapsed": false,
    "pycharm": {
     "name": "#%%\n"
    }
   }
  },
  {
   "cell_type": "markdown",
   "source": [
    "1. Load dataset"
   ],
   "metadata": {
    "collapsed": false,
    "pycharm": {
     "name": "#%% md\n"
    }
   }
  },
  {
   "cell_type": "code",
   "execution_count": 3,
   "outputs": [],
   "source": [
    "dataset_path = './faces100/'\n",
    "if not os.path.isdir(dataset_path):\n",
    "    !unzip -q faces100.zip"
   ],
   "metadata": {
    "collapsed": false,
    "pycharm": {
     "name": "#%%\n"
    }
   }
  },
  {
   "cell_type": "markdown",
   "source": [
    "Load description"
   ],
   "metadata": {
    "collapsed": false
   }
  },
  {
   "cell_type": "code",
   "execution_count": 4,
   "outputs": [],
   "source": [
    "# labels_path = './val2017_faces.csv'\n",
    "labels_path = './faces100.csv'\n",
    "dataframe = pd.read_csv(labels_path,sep=\" \", names=[\"filename\", \"x1\", \"y1\", \"x2\", \"y2\"])"
   ],
   "metadata": {
    "collapsed": false,
    "pycharm": {
     "name": "#%%\n"
    }
   }
  },
  {
   "cell_type": "markdown",
   "source": [
    "2 Detect with haar and lbp cascades"
   ],
   "metadata": {
    "collapsed": false,
    "pycharm": {
     "name": "#%% md\n"
    }
   }
  },
  {
   "cell_type": "code",
   "execution_count": 5,
   "outputs": [],
   "source": [
    "def get_real_label(df, image_name, w, h):\n",
    "    real_labels = []\n",
    "    labels = df.loc[df['filename'] == image_name]\n",
    "    for index, label in labels.iterrows():\n",
    "        x1 = int(label['x1'] * w)\n",
    "        y1 = int(label['y1'] * h)\n",
    "        x2 = int(label['x2'] * w)\n",
    "        y2 = int(label['y2'] * h)\n",
    "        real_labels.append([x1, y1, x2, y2])\n",
    "    return real_labels"
   ],
   "metadata": {
    "collapsed": false,
    "pycharm": {
     "name": "#%%\n"
    }
   }
  },
  {
   "cell_type": "code",
   "execution_count": 6,
   "outputs": [],
   "source": [
    "def detect(frame, cascade):\n",
    "    \"\"\"\n",
    "    :param frame: input colored image\n",
    "    :param cascade: cascade type\n",
    "    :return: face box [x1, y1, x2, y2]\n",
    "    \"\"\"\n",
    "    frame_gray = cv2.cvtColor(frame, cv2.COLOR_BGR2GRAY)\n",
    "    frame_gray = cv2.equalizeHist(frame_gray)\n",
    "    faces = cascade.detectMultiScale(frame_gray)\n",
    "    # w,h to x2, y2\n",
    "    for face in faces:\n",
    "        face[2] = face[0]+face[2]\n",
    "        face[3] = face[1]+face[3]\n",
    "    return faces"
   ],
   "metadata": {
    "collapsed": false,
    "pycharm": {
     "name": "#%%\n"
    }
   }
  },
  {
   "cell_type": "code",
   "execution_count": 7,
   "outputs": [],
   "source": [
    "# Params:\n",
    "face_cascade_haar_path = '/home/kuskov/opencv/data/haarcascades/haarcascade_frontalface_alt.xml'\n",
    "face_cascade_lbp_path = '/home/kuskov/opencv/data/lbpcascades/lbpcascade_frontalface.xml'\n",
    "\n",
    "#-- 0. Init classifiers:\n",
    "face_cascade_haar = cv2.CascadeClassifier()\n",
    "face_cascade_lbp = cv2.CascadeClassifier()\n",
    "\n",
    "\n",
    "#-- 1. Load the cascades\n",
    "if not face_cascade_haar.load(cv2.samples.findFile(face_cascade_haar_path)):\n",
    "    print('--(!)Error loading face cascade haar')\n",
    "    exit(0)\n",
    "\n",
    "if not face_cascade_lbp.load(cv2.samples.findFile(face_cascade_lbp_path)):\n",
    "    print('--(!)Error loading face cascade lbp')\n",
    "    exit(0)\n",
    "\n",
    "\n",
    "images_arr = os.listdir(dataset_path)\n",
    "images_arr.sort()\n",
    "\n",
    "detection_results = {}\n",
    "\n",
    "for frame_name in images_arr:\n",
    "\n",
    "    # Detect:\n",
    "    frame = cv2.imread(dataset_path + frame_name)\n",
    "    height, width, _ = frame.shape\n",
    "    haar_faces = detect(frame, face_cascade_haar)\n",
    "\n",
    "    lbp_faces = detect(frame, face_cascade_lbp)\n",
    "\n",
    "    real_faces = np.asarray(get_real_label(dataframe, frame_name, width, height), \"int32\")\n",
    "\n",
    "    # for real_face in lbp_faces:\n",
    "    #     frame = cv2.rectangle(frame, (real_face[0],real_face[1]),(real_face[2],real_face[3]),(0,0,255),1)\n",
    "    # for real_face in haar_faces:\n",
    "    #     frame = cv2.rectangle(frame, (real_face[0],real_face[1]),(real_face[2],real_face[3]),(255,0,0),1)\n",
    "    # for real_face in real_faces:\n",
    "    #     frame = cv2.rectangle(frame, (real_face[0],real_face[1]),(real_face[2],real_face[3]),(255,255,255),1)\n",
    "    #\n",
    "    # cv2.imshow(\"\",frame)\n",
    "    # cv2.waitKey(0)\n",
    "\n",
    "    res = collections.namedtuple(\"Result\", \"haar lbp real\")\n",
    "\n",
    "    detection_results[frame_name] = res(haar_faces, lbp_faces, real_faces)"
   ],
   "metadata": {
    "collapsed": false,
    "pycharm": {
     "name": "#%%\n"
    }
   }
  },
  {
   "cell_type": "markdown",
   "source": [
    "3. IOU calculation and Confusion matrix"
   ],
   "metadata": {
    "collapsed": false,
    "pycharm": {
     "name": "#%% md\n"
    }
   }
  },
  {
   "cell_type": "code",
   "execution_count": 8,
   "outputs": [],
   "source": [
    "def iou_calc(boxA, boxB):\n",
    "\t# determine the (x, y)-coordinates of the intersection rectangle\n",
    "\txA = max(boxA[0], boxB[0])\n",
    "\tyA = max(boxA[1], boxB[1])\n",
    "\txB = min(boxA[2], boxB[2])\n",
    "\tyB = min(boxA[3], boxB[3])\n",
    "\t# compute the area of intersection rectangle\n",
    "\tinterArea = max(0, xB - xA + 1) * max(0, yB - yA + 1)\n",
    "\t# compute the area of both the prediction and ground-truth\n",
    "\t# rectangles\n",
    "\tboxAArea = (boxA[2] - boxA[0] + 1) * (boxA[3] - boxA[1] + 1)\n",
    "\tboxBArea = (boxB[2] - boxB[0] + 1) * (boxB[3] - boxB[1] + 1)\n",
    "\t# compute the intersection over union by taking the intersection\n",
    "\t# area and dividing it by the sum of prediction + ground-truth\n",
    "\t# areas - the interesection area\n",
    "\tiou = interArea / float(boxAArea + boxBArea - interArea)\n",
    "\t# return the intersection over union value\n",
    "\treturn iou"
   ],
   "metadata": {
    "collapsed": false,
    "pycharm": {
     "name": "#%%\n"
    }
   }
  },
  {
   "cell_type": "code",
   "execution_count": 27,
   "outputs": [],
   "source": [
    "def confusion_matrix_calculation(detection_results, iou_value):\n",
    "    conf_m_haar = {\n",
    "        \"TP\":0,\"FN\":0,\"FP\":0,\"TN\":0,\"TP_cnt\":[],\"detects_cnt\":[]\n",
    "    }\n",
    "    conf_m_lbp = {\n",
    "        \"TP\":0,\"FN\":0,\"FP\":0,\"TN\":0,\"TP_cnt\":[],\"detects_cnt\":[]\n",
    "    }\n",
    "    dets = 0\n",
    "    counts = 0\n",
    "    for key in detection_results:\n",
    "        counts+=1\n",
    "        # HAAR\n",
    "        if len(detection_results[key].haar) > 0:\n",
    "            dets += len(detection_results[key].haar)\n",
    "            for box in detection_results[key].haar:\n",
    "                iou = iou_calc(detection_results[key].real[0], box,)\n",
    "                if iou > iou_value:\n",
    "                    conf_m_haar[\"TP\"] += 1\n",
    "                else:\n",
    "                    conf_m_haar[\"FP\"] += 1\n",
    "        else:\n",
    "            conf_m_haar[\"FN\"] += 1\n",
    "        conf_m_haar[\"TP_cnt\"].append(conf_m_haar[\"TP\"])\n",
    "        conf_m_haar[\"detects_cnt\"].append(dets)\n",
    "        #LBP\n",
    "\n",
    "        if len(detection_results[key].lbp) > 0:\n",
    "            for box in detection_results[key].lbp:\n",
    "                iou = iou_calc(detection_results[key].real[0], box,)\n",
    "                if iou > iou_value:\n",
    "                    conf_m_lbp[\"TP\"] += 1\n",
    "                else:\n",
    "                    conf_m_lbp[\"FP\"] += 1\n",
    "        else:\n",
    "            conf_m_lbp[\"FN\"] += 1\n",
    "        conf_m_lbp[\"TP_cnt\"].append(conf_m_lbp[\"TP\"])\n",
    "        conf_m_lbp[\"detects_cnt\"].append(dets)\n",
    "\n",
    "    return conf_m_haar, conf_m_lbp"
   ],
   "metadata": {
    "collapsed": false,
    "pycharm": {
     "name": "#%%\n"
    }
   }
  },
  {
   "cell_type": "code",
   "execution_count": 28,
   "outputs": [
    {
     "name": "stdout",
     "output_type": "stream",
     "text": [
      "IOU 0.25\n",
      "HAAR: \n",
      "Precision - 0.7959183673469388, Recall - 0.42857142857142855 , F1 - 0.5571428570973571\n",
      "LBP: \n",
      "Precision - 0.7288135593220338, Recall - 0.4725274725274725 , F1 - 0.5733333332856089\n",
      "*******************\n",
      "IOU 0.5\n",
      "HAAR: \n",
      "Precision - 0.7959183673469388, Recall - 0.42857142857142855 , F1 - 0.5571428570973571\n",
      "LBP: \n",
      "Precision - 0.6440677966101694, Recall - 0.4418604651162791 , F1 - 0.5241379309862163\n",
      "*******************\n",
      "IOU 0.75\n",
      "HAAR: \n",
      "Precision - 0.2653061224489796, Recall - 0.2 , F1 - 0.2280701753895814\n",
      "LBP: \n",
      "Precision - 0.1694915254237288, Recall - 0.1724137931034483 , F1 - 0.17094017089017458\n",
      "*******************\n",
      "IOU 0.95\n",
      "HAAR: \n",
      "Precision - 0.0, Recall - 0.0 , F1 - 0.0\n",
      "LBP: \n",
      "Precision - 0.0, Recall - 0.0 , F1 - 0.0\n",
      "*******************\n"
     ]
    }
   ],
   "source": [
    "iou_values = [0.25, 0.5, 0.75, 0.95]\n",
    "\n",
    "def precision_recall_f1_printer(conf_m):\n",
    "    P = conf_m[\"TP\"]/(conf_m[\"TP\"] + conf_m[\"FP\"])\n",
    "    R = conf_m[\"TP\"]/(conf_m[\"TP\"] + conf_m[\"FN\"])\n",
    "    F = 2*((P*R)/(P+R+1e-10))\n",
    "    print(\"Precision - {}, Recall - {} , F1 - {}\".format(P, R, F))\n",
    "\n",
    "for iou_value in iou_values:\n",
    "    conf_m_haar, conf_m_lbp = confusion_matrix_calculation(detection_results, iou_value)\n",
    "    print(\"IOU {}\".format(iou_value))\n",
    "    print(\"HAAR: \")\n",
    "    precision_recall_f1_printer(conf_m_haar)\n",
    "    print(\"LBP: \")\n",
    "    precision_recall_f1_printer(conf_m_lbp)\n",
    "\n",
    "    print(\"*******************\")\n"
   ],
   "metadata": {
    "collapsed": false,
    "pycharm": {
     "name": "#%%\n"
    }
   }
  },
  {
   "cell_type": "markdown",
   "source": [
    "4. AP calculation"
   ],
   "metadata": {
    "collapsed": false,
    "pycharm": {
     "name": "#%% md\n"
    }
   }
  },
  {
   "cell_type": "code",
   "execution_count": 29,
   "outputs": [
    {
     "name": "stdout",
     "output_type": "stream",
     "text": [
      "[1, 1, 1, 2, 3, 3, 3, 3, 4, 4, 5, 6, 6, 6, 7, 8, 9, 9, 9, 9, 10, 11, 11, 12, 12, 13, 14, 15, 15, 15, 16, 17, 18, 19, 19, 19, 20, 20, 21, 21, 21, 21, 21, 21, 23, 24, 25, 26, 26, 26, 26, 26, 26, 27, 27, 27, 28, 28, 28, 28, 29, 29, 30, 30, 31, 32, 32, 33, 33, 34, 35, 36, 36, 37, 38, 39, 39, 40, 40, 41, 41, 41, 42, 43, 44, 45, 45, 46, 46, 46, 47, 47, 47, 47, 47, 47, 47, 48, 48, 49]\n",
      "[1, 1, 1, 2, 3, 3, 3, 3, 3, 3, 4, 5, 5, 5, 5, 6, 7, 7, 7, 7, 8, 9, 9, 10, 10, 11, 11, 12, 12, 12, 13, 14, 15, 15, 15, 15, 16, 16, 17, 17, 17, 17, 17, 17, 18, 19, 20, 20, 20, 20, 20, 20, 20, 21, 21, 21, 22, 22, 22, 22, 22, 22, 23, 23, 24, 25, 25, 26, 26, 27, 28, 29, 29, 30, 31, 32, 32, 33, 33, 34, 34, 34, 35, 36, 37, 38, 38, 38, 38, 38, 39, 39, 39, 39, 39, 39, 39, 39, 39, 39]\n"
     ]
    },
    {
     "data": {
      "text/plain": "<Figure size 432x288 with 1 Axes>",
      "image/png": "[encoded data removed]"
     },
     "metadata": {
      "needs_background": "light"
     },
     "output_type": "display_data"
    }
   ],
   "source": [
    "conf_m_haar, conf_m_lbp = confusion_matrix_calculation(detection_results, 0.25)\n",
    "\n",
    "tp_cnt = conf_m_haar[\"TP_cnt\"]\n",
    "detects_cnt = conf_m_haar[\"detects_cnt\"]\n",
    "print(detects_cnt)\n",
    "print(tp_cnt)\n",
    "ap_precision, ap_recall, inter_p = [], [], []\n",
    "\n",
    "prev_precision = None\n",
    "prev_recall = None\n",
    "\n",
    "for idx, tp in enumerate(tp_cnt):\n",
    "    # precision = tp/(idx+1)\n",
    "    # recall = tp/conf_m_haar[\"TP\"]\n",
    "\n",
    "    # precision = tp/((detector_cnt[idx]))\n",
    "    # recall = tp/conf_m_haar[\"TP\"]\n",
    "\n",
    "    precision = tp/(detects_cnt[idx]) # tp/tp+fp\n",
    "    recall = tp/conf_m_haar[\"TP\"]\n",
    "\n",
    "    if len(ap_recall) > 0:\n",
    "        if recall == ap_recall[-1]:\n",
    "            precision = ap_precision[-1]\n",
    "\n",
    "    ap_precision.append(precision)\n",
    "    ap_recall.append(recall)\n",
    "    inter_p.append(precision)\n",
    "\n",
    "plt.plot( ap_recall, inter_p)\n",
    "plt.show()"
   ],
   "metadata": {
    "collapsed": false,
    "pycharm": {
     "name": "#%%\n"
    }
   }
  },
  {
   "cell_type": "code",
   "execution_count": null,
   "outputs": [],
   "source": [
    "# example of ap calculation\n",
    "# make table\n",
    "# https://www.youtube.com/watch?v=QdWidmgLwbw\n",
    "# make graph\n",
    "# https://www.youtube.com/watch?v=t98TA2RYQvw\n"
   ],
   "metadata": {
    "collapsed": false,
    "pycharm": {
     "name": "#%%\n"
    }
   }
  }
 ],
 "metadata": {
  "kernelspec": {
   "display_name": "Python 3",
   "language": "python",
   "name": "python3"
  },
  "language_info": {
   "codemirror_mode": {
    "name": "ipython",
    "version": 2
   },
   "file_extension": ".py",
   "mimetype": "text/x-python",
   "name": "python",
   "nbconvert_exporter": "python",
   "pygments_lexer": "ipython2",
   "version": "2.7.6"
  }
 },
 "nbformat": 4,
 "nbformat_minor": 0
}